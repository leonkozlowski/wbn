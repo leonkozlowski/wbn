{
 "cells": [
  {
   "cell_type": "code",
   "execution_count": 1,
   "metadata": {},
   "outputs": [],
   "source": [
    "from sklearn.model_selection import train_test_split\n",
    "from wbn.classifier import WBN\n",
    "from wbn.sample.datasets import load_pr_newswire"
   ]
  },
  {
   "cell_type": "code",
   "execution_count": 2,
   "metadata": {},
   "outputs": [],
   "source": [
    "# Load dataset\n",
    "pr_newswire = load_pr_newswire()\n",
    "\n",
    "# Train/test split\n",
    "x_train, x_test, y_train, y_test = train_test_split(\n",
    "    pr_newswire.data, pr_newswire.target, test_size=0.2\n",
    ")"
   ]
  },
  {
   "cell_type": "code",
   "execution_count": 3,
   "metadata": {},
   "outputs": [
    {
     "data": {
      "text/plain": [
       "[Classification(dag=<networkx.classes.digraph.DiGraph object at 0x10bab3310>, cls='bankruptcy', corpus=['process', 'expect', 'post', 'initi', 'effect', 'emerg', 'litig', 'financ', 'case', 'voluntarili', 'voluntari', 'restructur', 'cash', 'approv', 'success', 'declar', 'corpor', 'financi', 'recapit', 'announc', 'court', 'reduc', 'prepackag', 'complet', 'lead', 'fund', 'confirm', 'bankruptci', 'agreement', 'chapter', 'commenc', 'reorgan', 'debtor', 'access', 'proceed', 'possess', 'file', 'debt', 'statement', 'cours', 'term', 'bankrupt', '11', 'pursuant', 'exit', 'amend', 'receiv', 'balanc', 'protect', 'transact', 'note', 'enter', 'plan']),\n",
       " Classification(dag=<networkx.classes.digraph.DiGraph object at 0x10ba5b8e0>, cls='cash-dividend', corpus=['close', 'date', 'return', 'initi', 'trust', 'quarterli', 'reinvest', 'ex', 'paid', 'common', 'capit', 'dividend', 'cash', 'special', 'approv', 'record', 'declar', 'stock', 'pay', 'drip', 'regular', 'announc', 'payment', 'opt', 'busi', 'payabl', 'distribut']),\n",
       " Classification(dag=<networkx.classes.digraph.DiGraph object at 0x10ba1c070>, cls='merger-acquisition', corpus=['consider', 'definit', 'biopharmaceut', 'certain', 'expect', 'go', 'effect', 'estim', 'subject', 'state', 'own', 'ownership', 'pend', 'bid', 'price', 'result', 'adjust', 'deal', 'transmitt', 'stake', 'share', 'negoti', 'competit', 'complet', '5', 'conclud', 'equiti', 'busi', 'strateg', 'closur', 'agreement', 'close', 'base', 'volum', 'enterpris', 'sign', 'addit', 'regulatori', 'total', 'compens', 'cost', 'intent', 'receiv', 'offer', 'ratio', 'today', 'privat', 'receipt', 'enter', 'anticip', 'potenti', 'conting', 'synergi', 'sub', 'public', 'agre', 'major', 'paid', 'purchas', 'cash', 'letter', 'proce', 'tender', 'merger', 'approv', 'success', 'relat', 'stock', 'financi', 'non', 'announc', 'preliminari', 'compani', 'pleas', 'ordinari', 'reorgan', 'condit', 'gross', 'substanti', 'term', 'exchang', 'asset', 'disclos', 'acquir', 'propos', 'right', 'outstand', 'payment', 'bind', 'divestitur', 'transact', 'acquisit', 'valu', 'plan']),\n",
       " Classification(dag=<networkx.classes.digraph.DiGraph object at 0x10ba1c8e0>, cls='stock-split', corpus=['date', 'expect', 'post', 'effect', 'reclassifi', 'basi', 'evenli', 'cash', 'round', 'dividend', 'result', 'adjust', 'approv', 'record', 'fraction', 'declar', 'stock', 'share', 'announc', 'reduc', 'complet', 'busi', 'split', 'trade', 'effectu', 'payabl', 'close', 'new', 'exact', 'forward', 'consolid', 'pre', 'author', 'lieu', 'propos', 'implement', 'proport', 'ratio', 'outstand', 'receiv', 'payment', 'revers']),\n",
       " Classification(dag=<networkx.classes.digraph.DiGraph object at 0x10ba1c100>, cls='equity-offering', corpus=['placement', 'expect', 'public', 'initi', 'sell', 'effect', 'secondari', 'purchas', 'solicit', 'price', 'proce', 'deal', 'success', 'prospectu', 'relat', 'stock', 'share', 'announc', 'complet', 'issuanc', 'trade', 'payabl', 'close', 'commenc', 'separ', 'launch', 'intend', 'oversubscrib', 'rais', 'rang', 'consumm', 'addit', 'term', 'unit', 'propos', 'allot', 'offer', 'upsiz', 'ipo', 'alloc'])]"
      ]
     },
     "execution_count": 3,
     "metadata": {},
     "output_type": "execute_result"
    }
   ],
   "source": [
    "# Build WBN\n",
    "wbn = WBN()\n",
    "\n",
    "# Fit WBN Model\n",
    "wbn.fit(x_train, y_train)"
   ]
  },
  {
   "cell_type": "code",
   "execution_count": 4,
   "metadata": {},
   "outputs": [],
   "source": [
    "# Predict\n",
    "pred = wbn.predict(x_test)\n",
    "\n",
    "# Reverse encode classes\n",
    "y_pred = wbn.reverse_encode(target=pred)"
   ]
  },
  {
   "cell_type": "code",
   "execution_count": 5,
   "metadata": {},
   "outputs": [],
   "source": [
    "import matplotlib.pyplot as plt\n",
    "from sklearn.metrics import (\n",
    "    accuracy_score,\n",
    "    classification_report,\n",
    "    confusion_matrix,\n",
    "    recall_score,\n",
    "    precision_score,\n",
    ")"
   ]
  },
  {
   "cell_type": "code",
   "execution_count": 6,
   "metadata": {},
   "outputs": [],
   "source": [
    "c_matrix = confusion_matrix(y_test, y_pred)"
   ]
  },
  {
   "cell_type": "code",
   "execution_count": 7,
   "metadata": {},
   "outputs": [
    {
     "data": {
      "image/png": "[encoded data removed]",
      "text/plain": [
       "<Figure size 720x720 with 1 Axes>"
      ]
     },
     "metadata": {
      "needs_background": "light"
     },
     "output_type": "display_data"
    }
   ],
   "source": [
    "# Plot confusion matrix\n",
    "fig, ax = plt.subplots(figsize=(10, 10))\n",
    "ax.imshow(c_matrix)\n",
    "\n",
    "ax.set_ylabel(\"Actual Label\")\n",
    "ax.set_xlabel(\"Predicted Label\")\n",
    "labels = tuple(wbn.reverse_encode([0, 1, 2, 3, 4]))\n",
    "ax.xaxis.set(ticks=(0, 1, 2, 3, 4), ticklabels=labels)\n",
    "ax.yaxis.set(ticks=(0, 1, 2, 3, 4), ticklabels=labels)\n",
    "for i in range(len(labels)):  # ref: (https://realpython.com/logistic-regression-python/)\n",
    "    for j in range(len(labels)):\n",
    "        ax.text(j, i, c_matrix[i, j], ha='center', va='center', color='red')"
   ]
  },
  {
   "cell_type": "code",
   "execution_count": 8,
   "metadata": {},
   "outputs": [
    {
     "name": "stdout",
     "output_type": "stream",
     "text": [
      "Precision Score: 0.9579579579579579\n",
      "Recall Score: 0.9459459459459459\n",
      "Accuracy Score: 0.9459459459459459\n"
     ]
    }
   ],
   "source": [
    "# Calculate key metrics\n",
    "precision = precision_score(y_test, y_pred, average=\"weighted\")\n",
    "recall = recall_score(y_test, y_pred, average=\"weighted\")\n",
    "accuracy = accuracy_score(y_test, y_pred)\n",
    "\n",
    "print(f\"Precision Score: {precision}\")\n",
    "print(f\"Recall Score: {recall}\")\n",
    "print(f\"Accuracy Score: {accuracy}\")"
   ]
  },
  {
   "cell_type": "code",
   "execution_count": null,
   "metadata": {},
   "outputs": [],
   "source": []
  }
 ],
 "metadata": {
  "kernelspec": {
   "display_name": "Python 3",
   "language": "python",
   "name": "python3"
  },
  "language_info": {
   "codemirror_mode": {
    "name": "ipython",
    "version": 3
   },
   "file_extension": ".py",
   "mimetype": "text/x-python",
   "name": "python",
   "nbconvert_exporter": "python",
   "pygments_lexer": "ipython3",
   "version": "3.8.6"
  }
 },
 "nbformat": 4,
 "nbformat_minor": 4
}
