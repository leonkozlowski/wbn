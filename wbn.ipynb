{
 "cells": [
  {
   "cell_type": "code",
   "execution_count": 1,
   "metadata": {},
   "outputs": [],
   "source": [
    "from sklearn.model_selection import train_test_split\n",
    "from wbn.classifier import WBN\n",
    "from wbn.sample.datasets import load_pr_newswire"
   ]
  },
  {
   "cell_type": "code",
   "execution_count": 2,
   "metadata": {},
   "outputs": [],
   "source": [
    "# Load dataset\n",
    "pr_newswire = load_pr_newswire()\n",
    "\n",
    "# Train/test split\n",
    "x_train, x_test, y_train, y_test = train_test_split(\n",
    "    pr_newswire.data, pr_newswire.target, test_size=0.2\n",
    ")"
   ]
  },
  {
   "cell_type": "code",
   "execution_count": 3,
   "metadata": {},
   "outputs": [
    {
     "data": {
      "text/plain": [
       "[Classification(dag=<networkx.classes.digraph.DiGraph object at 0x105044520>, cls='stock-split', corpus=['round', 'consolid', 'propos', 'forward', 'record', 'reclassifi', 'implement', 'expect', 'trade', 'lieu', 'revers', 'fraction', 'share', 'ratio', 'evenli', 'declar', 'basi', 'post', 'complet', 'dividend', 'receiv', 'adjust', 'effectu', 'payabl', 'author', 'proport', 'stockhold', 'reduc', 'close', 'result', 'new', 'split', 'exact', 'stock', 'pre', 'date', 'outstand', 'effect', 'approv', 'cash', 'payment', 'busi', 'announc']),\n",
       " Classification(dag=<networkx.classes.digraph.DiGraph object at 0x1050441c0>, cls='merger-acquisition', corpus=['acquisit', 'merger', 'success', 'price', 'entri', 'acquir', 'valu', 'own', 'includ', 'agreement', 'asset', 'state', 'share', 'preliminari', 'letter', 'ownership', 'substanti', 'receiv', 'major', 'adjust', 'equiti', 'deal', 'certain', 'definit', 'term', 'mergerco', 'close', 'strateg', 'subject', 'reorgan', 'relat', 'condit', 'stock', 'ordinari', 'outstand', 'effect', 'approv', 'plan', 'exchang', 'transmitt', 'busi', 'announc', 'competit', 'propos', 'offer', 'consid', 'compens', 'transact', 'sub', 'expect', 'capit', 'receipt', 'aggreg', 'go', 'ratio', 'closur', 'conclud', 'proce', 'intent', 'complet', 'paid', 'cost', 'select', 'addit', 'right', '5', 'conting', 'financi', 'enter', 'market', 'pleas', 'potenti', 'consider', 'sign', 'purchas', 'compani', 'total', 'pend', 'bid', 'stake', 'estim', 'anticip', 'enterpris', 'interest', 'public', 'divestitur', 'disclos', 'cash', 'privat', 'tender', 'today', 'base']),\n",
       " Classification(dag=<networkx.classes.digraph.DiGraph object at 0x131cc81f0>, cls='bankruptcy', corpus=['success', 'restructur', 'cours', 'balanc', 'case', 'prepackag', 'statement', 'transact', '11', 'commenc', 'fund', 'bankrupt', 'emerg', 'process', 'bankruptci', 'declar', 'post', 'complet', 'confirm', 'plan', 'debtor', 'access', 'receiv', 'voluntarili', 'financi', 'enter', 'corpor', 'amend', 'reduc', 'term', 'close', 'pursuant', 'debt', 'chapter', 'note', 'reorgan', 'lead', 'court', 'proceed', 'exit', 'initi', 'protect', 'effect', 'approv', 'cash', 'file', 'voluntari', 'announc']),\n",
       " Classification(dag=<networkx.classes.digraph.DiGraph object at 0x131cc84f0>, cls='cash-dividend', corpus=['common', 'payabl', 'author', 'reinvest', 'stockhold', 'record', 'ex', 'agre', 'close', 'return', 'drip', 'capit', 'opt', 'distribut', 'trust', 'share', 'stock', 'quarterli', 'special', 'date', 'declar', 'regular', 'approv', 'cash', 'paid', 'pay', 'dividend', 'payment', 'busi', 'announc']),\n",
       " Classification(dag=<networkx.classes.digraph.DiGraph object at 0x131cc8520>, cls='equity-offering', corpus=['price', 'success', 'launch', 'list', 'propos', 'alloc', 'offer', 'intend', 'oversubscrib', 'consumm', 'expect', 'commenc', 'trade', 'upsiz', 'bookrunn', 'allot', 'share', 'prospectu', 'proce', 'sold', 'complet', 'rang', 'addit', 'secondari', 'solicit', 'issuanc', 'rais', 'placement', 'separ', 'term', 'purchas', 'close', 'sell', 'ipo', 'relat', 'unit', 'stock', 'public', 'initi', 'size', 'effect', 'base', 'announc'])]"
      ]
     },
     "execution_count": 3,
     "metadata": {},
     "output_type": "execute_result"
    }
   ],
   "source": [
    "# Build WBN\n",
    "wbn = WBN()\n",
    "\n",
    "# Fit WBN Model\n",
    "wbn.fit(x_train, y_train)"
   ]
  },
  {
   "cell_type": "code",
   "execution_count": 4,
   "metadata": {},
   "outputs": [],
   "source": [
    "# Predict\n",
    "pred = wbn.predict(x_test)\n",
    "\n",
    "# Reverse encode classes\n",
    "y_pred = wbn.reverse_encode(target=pred)"
   ]
  },
  {
   "cell_type": "code",
   "execution_count": 5,
   "metadata": {},
   "outputs": [],
   "source": [
    "import matplotlib.pyplot as plt\n",
    "from sklearn.metrics import (\n",
    "    accuracy_score,\n",
    "    classification_report,\n",
    "    confusion_matrix,\n",
    "    recall_score,\n",
    "    precision_score,\n",
    ")"
   ]
  },
  {
   "cell_type": "code",
   "execution_count": 6,
   "metadata": {},
   "outputs": [],
   "source": [
    "c_matrix = confusion_matrix(y_test, y_pred)"
   ]
  },
  {
   "cell_type": "code",
   "execution_count": 7,
   "metadata": {},
   "outputs": [
    {
     "data": {
      "image/png": "[encoded data removed]",
      "text/plain": [
       "<Figure size 720x720 with 1 Axes>"
      ]
     },
     "metadata": {
      "needs_background": "light"
     },
     "output_type": "display_data"
    }
   ],
   "source": [
    "# Plot confusion matrix\n",
    "fig, ax = plt.subplots(figsize=(10, 10))\n",
    "ax.imshow(c_matrix)\n",
    "\n",
    "ax.set_ylabel(\"Actual Label\")\n",
    "ax.set_xlabel(\"Predicted Label\")\n",
    "labels = tuple(wbn.reverse_encode([0, 1, 2, 3, 4]))\n",
    "ax.xaxis.set(ticks=(0, 1, 2, 3, 4), ticklabels=labels)\n",
    "ax.yaxis.set(ticks=(0, 1, 2, 3, 4), ticklabels=labels)\n",
    "for i in range(len(labels)):  # ref: (https://realpython.com/logistic-regression-python/)\n",
    "    for j in range(len(labels)):\n",
    "        ax.text(j, i, c_matrix[i, j], ha='center', va='center', color='red')"
   ]
  },
  {
   "cell_type": "code",
   "execution_count": 8,
   "metadata": {},
   "outputs": [
    {
     "name": "stdout",
     "output_type": "stream",
     "text": [
      "Precision Score: 0.9243243243243244\n",
      "Recall Score: 0.918918918918919\n",
      "Accuracy Score: 0.918918918918919\n"
     ]
    }
   ],
   "source": [
    "# Calculate key metrics\n",
    "precision = precision_score(y_test, y_pred, average=\"weighted\")\n",
    "recall = recall_score(y_test, y_pred, average=\"weighted\")\n",
    "accuracy = accuracy_score(y_test, y_pred)\n",
    "\n",
    "print(f\"Precision Score: {precision}\")\n",
    "print(f\"Recall Score: {recall}\")\n",
    "print(f\"Accuracy Score: {accuracy}\")"
   ]
  },
  {
   "cell_type": "code",
   "execution_count": null,
   "metadata": {},
   "outputs": [],
   "source": []
  }
 ],
 "metadata": {
  "kernelspec": {
   "display_name": "Python 3",
   "language": "python",
   "name": "python3"
  },
  "language_info": {
   "codemirror_mode": {
    "name": "ipython",
    "version": 3
   },
   "file_extension": ".py",
   "mimetype": "text/x-python",
   "name": "python",
   "nbconvert_exporter": "python",
   "pygments_lexer": "ipython3",
   "version": "3.8.6"
  }
 },
 "nbformat": 4,
 "nbformat_minor": 4
}
